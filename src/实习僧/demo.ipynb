{
 "cells": [
  {
   "cell_type": "code",
   "execution_count": null,
   "metadata": {},
   "outputs": [
    {
     "name": "stderr",
     "output_type": "stream",
     "text": [
      "2 extra bytes in post.stringData array\n"
     ]
    },
    {
     "name": "stdout",
     "output_type": "stream",
     "text": [
      "{'0xe6a0': 'ice-cream-round', '0xe6a3': 'ice-cream-square', '0xe6a4': 'lollipop', '0xe6a5': 'potato-strips', '0xe6a6': 'milk-tea', '0xe6a7': 'ice-drink', '0xe6a9': 'ice-tea', '0xe6aa': 'coffee', '0xe6ab': 'orange', '0xe6ac': 'pear', '0xe6ad': 'apple', '0xe6ae': 'cherry', '0xe6af': 'watermelon', '0xe6b0': 'grape', '0xe6b1': 'refrigerator', '0xe6b2': 'goblet-square-full', '0xe6b3': 'goblet-square', '0xe6b4': 'goblet-full', '0xe6b5': 'goblet', '0xe6b6': 'cold-drink', '0xe6b8': 'coffee-cup', '0xe6b9': 'water-cup', '0xe6ba': 'hot-water', '0xe6bb': 'ice-cream', '0xe6bc': 'dessert', '0xe6bd': 'sugar', '0xe6be': 'tableware', '0xe6bf': 'burger', '0xe6c1': 'knife-fork', '0xe6c2': 'fork-spoon', '0xe6c3': 'chicken', '0xe6c4': 'food', '0xe6c5': 'dish-1', '0xe6c6': 'dish', '0xe6c7': 'refresh-left', '0xe6c8': 'refresh-right', '0xe6c9': 'warning-outline', '0xe6ca': 'setting', '0xe6cb': 'phone-outline', '0xe6cc': 'more-outline', '0xe6cd': 'finished', '0xe6ce': 'view', '0xe6cf': 'loading', '0xe6d0': 'refresh', '0xe6d1': 'rank', '0xe6d2': 'sort', '0xe6d3': 'mobile-phone', '0xe6d4': 'service', '0xe6d5': 'sell', '0xe6d6': 'sold-out', '0xe6d7': 'delete', '0xe6d8': 'minus', '0xe6d9': 'plus', '0xe6da': 'check', '0xe6db': 'close', '0xe6dc': 'd-arrow-right', '0xe6dd': 'd-arrow-left', '0xe6de': 'arrow-left', '0xe6df': 'arrow-down', '0xe6e0': 'arrow-right', '0xe6e1': 'arrow-up', '0xe6e2': 'key', '0xe6e3': 'user', '0xe6e4': 'unlock', '0xe6e5': 'lock', '0xe6e6': 'top', '0xe6e7': 'top-right', '0xe6e8': 'top-left', '0xe6e9': 'right', '0xe6ea': 'back', '0xe6eb': 'bottom', '0xe6ec': 'bottom-right', '0xe6ed': 'bottom-left', '0xe6ee': 'moon-night', '0xe6f0': 'moon', '0xe6f1': 'cloudy-and-sunny', '0xe6f2': 'partly-cloudy', '0xe6f3': 'cloudy', '0xe6f6': 'sunny', '0xe6f7': 'sunset', '0xe6f8': 'sunrise-1', '0xe6f9': 'sunrise', '0xe6fa': 'heavy-rain', '0xe6fb': 'lightning', '0xe6fc': 'light-rain', '0xe6fd': 'wind-power', '0xe6fe': 'watch', '0xe6ff': 'watch-1', '0xe702': 'timer', '0xe703': 'alarm-clock', '0xe704': 'map-location', '0xe705': 'delete-location', '0xe706': 'add-location', '0xe707': 'location-information', '0xe708': 'location-outline', '0xe709': 'place', '0xe70a': 'discover', '0xe70b': 'first-aid-kit', '0xe70c': 'trophy-1', '0xe70d': 'trophy', '0xe70e': 'medal', '0xe70f': 'medal-1', '0xe710': 'stopwatch', '0xe711': 'mic', '0xe712': 'baseball', '0xe713': 'soccer', '0xe715': 'football', '0xe716': 'basketball', '0xe717': 'star-off', '0xe718': 'copy-document', '0xe719': 'full-screen', '0xe71b': 'switch-button', '0xe71c': 'aim', '0xe71d': 'crop', '0xe71e': 'odometer', '0xe71f': 'time', '0xe720': 'circle-check', '0xe722': 'remove-outline', '0xe723': 'circle-plus-outline', '0xe724': 'bangzhu', '0xe725': 'bell', '0xe726': 'close-notification', '0xe727': 'microphone', '0xe728': 'turn-off-microphone', '0xe729': 'position', '0xe72a': 'postcard', '0xe72b': 'message', '0xe72d': 'chat-line-square', '0xe72e': 'chat-dot-square', '0xe72f': 'chat-dot-round', '0xe730': 'chat-square', '0xe731': 'chat-line-round', '0xe732': 'chat-round', '0xe733': 'set-up', '0xe734': 'turn-off', '0xe735': 'open', '0xe736': 'connection', '0xe737': 'link', '0xe738': 'cpu', '0xe739': 'thumb', '0xe73a': 'female', '0xe73b': 'male', '0xe73c': 'guide', '0xe73d': 'help', '0xe73e': 'news', '0xe73f': 'ship', '0xe740': 'truck', '0xe741': 'bicycle', '0xe744': 'price-tag', '0xe745': 'discount', '0xe747': 'wallet', '0xe748': 'coin', '0xe749': 'money', '0xe74a': 'bank-card', '0xe74b': 'box', '0xe74c': 'present', '0xe74d': 'shopping-bag-2', '0xe74e': 'shopping-bag-1', '0xe74f': 'shopping-cart-2', '0xe750': 'shopping-cart-1', '0xe751': 'shopping-cart-full', '0xe752': 'smoking', '0xe753': 'no-smoking', '0xe754': 'house', '0xe755': 'table-lamp', '0xe756': 'school', '0xe757': 'office-building', '0xe758': 'toilet-paper', '0xe759': 'notebook-2', '0xe75a': 'notebook-1', '0xe75b': 'files', '0xe75c': 'collection', '0xe75d': 'receiving', '0xe75e': 'picture-outline', '0xe75f': 'picture-outline-round', '0xe760': 'suitcase-1', '0xe761': 'suitcase', '0xe763': 'film', '0xe764': 'edit-outline', '0xe765': 'collection-tag', '0xe766': 'data-analysis', '0xe767': 'pie-chart', '0xe768': 'data-board', '0xe769': 'reading', '0xe76a': 'magic-stick', '0xe76b': 'coordinate', '0xe76c': 'mouse', '0xe76d': 'data-line', '0xe76e': 'brush', '0xe76f': 'headset', '0xe770': 'umbrella', '0xe771': 'scissors', '0xe772': 'video-camera', '0xe773': 'mobile', '0xe774': 'attract', '0xe775': 'monitor', '0xe776': 'zoom-out', '0xe777': 'zoom-in', '0xe778': 'search', '0xe779': 'camera', '0xe77a': 'takeaway-box', '0xe77b': 'upload2', '0xe77c': 'download', '0xe77d': 'paperclip', '0xe77e': 'printer', '0xe77f': 'folder-checked', '0xe780': 'folder-delete', '0xe781': 'folder-remove', '0xe782': 'document-add', '0xe783': 'folder-add', '0xe784': 'folder-opened', '0xe785': 'document', '0xe786': 'document-checked', '0xe787': 'document-copy', '0xe788': 'document-delete', '0xe789': 'document-remove', '0xe78a': 'folder', '0xe78b': 'tickets', '0xe78c': 'edit', '0xe78d': 'circle-close', '0xe78e': 'date', '0xe78f': 'caret-top', '0xe790': 'caret-bottom', '0xe791': 'caret-right', '0xe792': 'caret-left', '0xe793': 'share', '0xe794': 'more', '0xe795': 'phone', '0xe796': 'video-camera-solid', '0xe797': 'star-on', '0xe798': 'menu', '0xe799': 'message-solid', '0xe79a': 'd-caret', '0xe79b': 'camera-solid', '0xe79c': 'success', '0xe79d': 'error', '0xe79e': 'location', '0xe79f': 'picture', '0xe7a0': 'circle-plus', '0xe7a1': 'info', '0xe7a2': 'remove', '0xe7a3': 'warning', '0xe7a4': 'question', '0xe7a5': 'user-solid', '0xe7a6': 's-grid', '0xe7a7': 's-check', '0xe7a8': 's-data', '0xe7a9': 's-fold', '0xe7aa': 's-opportunity', '0xe7ab': 's-custom', '0xe7ac': 's-tools', '0xe7ad': 's-claim', '0xe7ae': 's-finance', '0xe7af': 's-comment', '0xe7b0': 's-flag', '0xe7b1': 's-marketing', '0xe7b2': 's-goods', '0xe7b3': 's-help', '0xe7b4': 's-shop', '0xe7b5': 's-open', '0xe7b6': 's-management', '0xe7b7': 's-ticket', '0xe7b8': 's-release', '0xe7b9': 's-home', '0xe7ba': 's-promotion', '0xe7bb': 's-operation', '0xe7bc': 's-unfold', '0xe7bd': 's-platform', '0xe7be': 's-order', '0xe7bf': 's-cooperation', '0xe7c0': 'video-play', '0xe7c1': 'video-pause', '0xe7c2': 'goods', '0xe7c3': 'upload', '0xe7c4': 'sort-down', '0xe7c5': 'sort-up', '0xe7c6': 'c-scale-to-original', '0xe7c7': 'eleme', '0xe7c9': 'delete-solid', '0xe7ca': 'platform-eleme'}\n"
     ]
    }
   ],
   "source": [
    "from fontTools.ttLib import TTFont\n",
    "import os\n",
    "\n",
    "\n",
    "def process_font_file(font_path):\n",
    "    \"\"\"\n",
    "    Process a font file, save its XML representation, and return a mapping of character codes to glyph names.\n",
    "\n",
    "    Args:\n",
    "        font_path (str): Path to the font file.\n",
    "\n",
    "    Returns:\n",
    "        dict: A dictionary mapping character codes (in hex) to glyph names.\n",
    "    \"\"\"\n",
    "    # Load the font file\n",
    "    font = TTFont(font_path)\n",
    "\n",
    "    # Save the font data as an XML file\n",
    "    font.saveXML(font_path + \".xml\")\n",
    "\n",
    "    # Get the character-to-glyph mapping\n",
    "    font_map = font.getBestCmap()\n",
    "\n",
    "    # Convert the mapping keys to hex and return the new mapping\n",
    "    newmap = {hex(key): value for key, value in font_map.items()}\n",
    "    return newmap\n",
    "\n",
    "\n",
    "# Example usage\n",
    "woff_dir = \"../../texts/实习僧/fonts\"\n",
    "ele_path = os.path.join(woff_dir, \"element-icons.313f7da.woff\")\n",
    "\n",
    "newmap = process_font_file(ele_path)\n",
    "\n"
   ]
  },
  {
   "cell_type": "markdown",
   "metadata": {},
   "source": []
  }
 ],
 "metadata": {
  "kernelspec": {
   "display_name": ".venv",
   "language": "python",
   "name": "python3"
  },
  "language_info": {
   "codemirror_mode": {
    "name": "ipython",
    "version": 3
   },
   "file_extension": ".py",
   "mimetype": "text/x-python",
   "name": "python",
   "nbconvert_exporter": "python",
   "pygments_lexer": "ipython3",
   "version": "3.13.2"
  }
 },
 "nbformat": 4,
 "nbformat_minor": 2
}
